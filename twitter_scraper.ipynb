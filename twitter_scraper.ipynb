{
 "cells": [
  {
   "cell_type": "code",
   "execution_count": null,
   "metadata": {},
   "outputs": [],
   "source": [
    "pip install snscrape"
   ]
  },
  {
   "cell_type": "code",
   "execution_count": 1,
   "metadata": {},
   "outputs": [],
   "source": [
    "import snscrape.modules.twitter as sntwitter\n",
    "import pandas as pd"
   ]
  },
  {
   "cell_type": "code",
   "execution_count": null,
   "metadata": {},
   "outputs": [],
   "source": [
    "limit = 1000\n",
    "tweet_list = []\n",
    "for tweet in sntwitter.TwitterSearchScraper(\"elonmusk\").get_items():\n",
    "    if len(tweet_list) == limit:\n",
    "        break\n",
    "    else:\n",
    "        tweet_list.append([tweet.date, tweet.content, tweet.user.username, tweet.user.displayname, tweet.user.description,\n",
    "                          tweet.replyCount, tweet.retweetCount, tweet.likeCount, tweet.lang, tweet.source])\n",
    "df = pd.DataFrame(tweet_list, columns=[\"date\", \"tweet\", \"username\", \"displayname\", \"description\", \"replycity\",\n",
    "                                       \"retweetcount\", \"likecount\",\"language\", \"source\"])\n",
    "\n",
    "print(df)"
   ]
  },
  {
   "cell_type": "code",
   "execution_count": null,
   "metadata": {},
   "outputs": [],
   "source": [
    "limit = 250\n",
    "tweet_list = []\n",
    "for tweet in sntwitter.TwitterSearchScraper(\"#DataScience\").get_items():\n",
    "    if len(tweet_list) == limit:\n",
    "        break\n",
    "    else:\n",
    "        tweet_list.append([tweet.date, tweet.content, tweet.user.username, tweet.user.displayname, tweet.user.description,\n",
    "                          tweet.replyCount, tweet.retweetCount, tweet.likeCount, tweet.lang, tweet.source])\n",
    "df1 = pd.DataFrame(tweet_list, columns=[\"date\", \"tweet\", \"username\", \"displayname\", \"description\", \"replycity\",\n",
    "                                       \"retweetcount\", \"likecount\",\"language\", \"source\"])\n",
    "\n",
    "print(df1)"
   ]
  },
  {
   "cell_type": "code",
   "execution_count": null,
   "metadata": {},
   "outputs": [],
   "source": [
    "query = \"#pythonkachilla  until:2022-12-31 since:2022-01-01\"\n",
    "limit = 250\n",
    "tweet_list = []\n",
    "for tweet in sntwitter.TwitterSearchScraper(query).get_items():\n",
    "    if len(tweet_list) == limit:\n",
    "        break\n",
    "    else:\n",
    "        tweet_list.append([tweet.date, tweet.content, tweet.user.username, tweet.user.displayname, tweet.user.description,\n",
    "                          tweet.replyCount, tweet.retweetCount, tweet.likeCount, tweet.lang, tweet.source])\n",
    "df2 = pd.DataFrame(tweet_list, columns=[\"date\", \"tweet\", \"username\", \"displayname\", \"description\", \"replycity\",\n",
    "                                       \"retweetcount\", \"likecount\",\"language\", \"source\"])\n",
    "\n",
    "print(df2)"
   ]
  },
  {
   "cell_type": "code",
   "execution_count": 13,
   "metadata": {},
   "outputs": [],
   "source": [
    "df2.to_csv(\"tweets_data.csv\", index=False)"
   ]
  }
 ],
 "metadata": {
  "kernelspec": {
   "display_name": "Python 3",
   "language": "python",
   "name": "python3"
  },
  "language_info": {
   "codemirror_mode": {
    "name": "ipython",
    "version": 3
   },
   "file_extension": ".py",
   "mimetype": "text/x-python",
   "name": "python",
   "nbconvert_exporter": "python",
   "pygments_lexer": "ipython3",
   "version": "3.10.7"
  },
  "orig_nbformat": 4,
  "vscode": {
   "interpreter": {
    "hash": "ef3c1995ae9d7efc63ec1d5de797b9996b27186a29200cf9101d01e6cf7d580a"
   }
  }
 },
 "nbformat": 4,
 "nbformat_minor": 2
}
