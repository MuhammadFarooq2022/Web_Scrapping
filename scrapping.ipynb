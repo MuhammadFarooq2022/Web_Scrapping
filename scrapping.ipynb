{
 "cells": [
  {
   "cell_type": "code",
   "execution_count": 132,
   "metadata": {},
   "outputs": [],
   "source": [
    "# pip install Bs4\n",
    "# pip install requests\n",
    "\n",
    "from bs4 import BeautifulSoup\n",
    "import requests\n",
    "import pandas as pd"
   ]
  },
  {
   "cell_type": "code",
   "execution_count": 153,
   "metadata": {},
   "outputs": [],
   "source": [
    "url = \"https://www.coingecko.com/\""
   ]
  },
  {
   "cell_type": "code",
   "execution_count": 154,
   "metadata": {},
   "outputs": [
    {
     "data": {
      "text/plain": [
       "200"
      ]
     },
     "execution_count": 154,
     "metadata": {},
     "output_type": "execute_result"
    }
   ],
   "source": [
    "response = requests.get(url)\n",
    "response.status_code"
   ]
  },
  {
   "cell_type": "code",
   "execution_count": 155,
   "metadata": {},
   "outputs": [],
   "source": [
    "soup = BeautifulSoup(response.content,\"html.parser\")"
   ]
  },
  {
   "cell_type": "code",
   "execution_count": 156,
   "metadata": {},
   "outputs": [],
   "source": [
    "results = soup.find(\"div\", {\"class\":\"coingecko-table\"}).find(\"tbody\").find_all(\"tr\")"
   ]
  },
  {
   "cell_type": "code",
   "execution_count": 157,
   "metadata": {},
   "outputs": [
    {
     "data": {
      "text/plain": [
       "100"
      ]
     },
     "execution_count": 157,
     "metadata": {},
     "output_type": "execute_result"
    }
   ],
   "source": [
    "len(results)"
   ]
  },
  {
   "attachments": {},
   "cell_type": "markdown",
   "metadata": {},
   "source": [
    "# Name"
   ]
  },
  {
   "cell_type": "code",
   "execution_count": 158,
   "metadata": {},
   "outputs": [
    {
     "data": {
      "text/plain": [
       "'Bitcoin'"
      ]
     },
     "execution_count": 158,
     "metadata": {},
     "output_type": "execute_result"
    }
   ],
   "source": [
    "results[0].find(\"span\",{\"class\":\"lg:tw-flex font-bold tw-items-center tw-justify-between\"}).get_text().strip()"
   ]
  },
  {
   "attachments": {},
   "cell_type": "markdown",
   "metadata": {},
   "source": [
    "# Price"
   ]
  },
  {
   "cell_type": "code",
   "execution_count": 159,
   "metadata": {},
   "outputs": [
    {
     "data": {
      "text/plain": [
       "'$16,607.50'"
      ]
     },
     "execution_count": 159,
     "metadata": {},
     "output_type": "execute_result"
    }
   ],
   "source": [
    "results[0].find(\"td\",{\"class\":\"td-price price text-right\"}).get_text().strip()"
   ]
  },
  {
   "attachments": {},
   "cell_type": "markdown",
   "metadata": {},
   "source": [
    "# 24 Volume"
   ]
  },
  {
   "cell_type": "code",
   "execution_count": 160,
   "metadata": {},
   "outputs": [
    {
     "data": {
      "text/plain": [
       "'$10,048,083,512'"
      ]
     },
     "execution_count": 160,
     "metadata": {},
     "output_type": "execute_result"
    }
   ],
   "source": [
    "results[0].find(\"td\",{\"class\":\"td-liquidity_score lit text-right col-market\"}).get_text().strip()"
   ]
  },
  {
   "attachments": {},
   "cell_type": "markdown",
   "metadata": {},
   "source": [
    "# Market Cap"
   ]
  },
  {
   "cell_type": "code",
   "execution_count": 161,
   "metadata": {},
   "outputs": [
    {
     "data": {
      "text/plain": [
       "'$319,595,451,886'"
      ]
     },
     "execution_count": 161,
     "metadata": {},
     "output_type": "execute_result"
    }
   ],
   "source": [
    "results[0].find(\"td\",{\"class\":\"td-market_cap cap col-market cap-price text-right\"}).get_text().strip()"
   ]
  },
  {
   "cell_type": "code",
   "execution_count": 163,
   "metadata": {},
   "outputs": [],
   "source": [
    "# creating a empty list\n",
    "names = []\n",
    "price = []\n",
    "volume_24h = []\n",
    "market_cap = []\n",
    "\n",
    "for result in results:\n",
    "    \n",
    "    try:\n",
    "        names.append(result.find(\"span\",{\"class\":\"lg:tw-flex font-bold tw-items-center tw-justify-between\"}).get_text().strip())\n",
    "    except:\n",
    "        names.append(\"n/a\")\n",
    "    try:\n",
    "        price.append(result.find(\"td\",{\"class\":\"td-price price text-right\"}).get_text().strip())\n",
    "    except:\n",
    "        price.append(\"n/a\")\n",
    "    try:\n",
    "        volume_24h.append(result.find(\"td\",{\"class\":\"td-liquidity_score lit text-right col-market\"}).get_text().strip())\n",
    "    except:\n",
    "        volume_24h.append(\"n/a\")\n",
    "    try:\n",
    "        market_cap.append(result.find(\"td\",{\"class\":\"td-market_cap cap col-market cap-price text-right\"}).get_text().strip())\n",
    "    except:\n",
    "        market_cap.append(\"n/a\")"
   ]
  },
  {
   "cell_type": "markdown",
   "metadata": {},
   "source": [
    "# Creating DataFrame"
   ]
  },
  {
   "cell_type": "code",
   "execution_count": 164,
   "metadata": {},
   "outputs": [],
   "source": [
    "crypto_df = pd.DataFrame({\"Coin\":names, \"Price\":price, \"24h_Volume\":volume_24h, \"Market_Cap\":market_cap})"
   ]
  },
  {
   "cell_type": "code",
   "execution_count": 165,
   "metadata": {},
   "outputs": [
    {
     "data": {
      "text/html": [
       "<div>\n",
       "<style scoped>\n",
       "    .dataframe tbody tr th:only-of-type {\n",
       "        vertical-align: middle;\n",
       "    }\n",
       "\n",
       "    .dataframe tbody tr th {\n",
       "        vertical-align: top;\n",
       "    }\n",
       "\n",
       "    .dataframe thead th {\n",
       "        text-align: right;\n",
       "    }\n",
       "</style>\n",
       "<table border=\"1\" class=\"dataframe\">\n",
       "  <thead>\n",
       "    <tr style=\"text-align: right;\">\n",
       "      <th></th>\n",
       "      <th>Coin</th>\n",
       "      <th>Price</th>\n",
       "      <th>24h_Volume</th>\n",
       "      <th>Market_Cap</th>\n",
       "    </tr>\n",
       "  </thead>\n",
       "  <tbody>\n",
       "    <tr>\n",
       "      <th>0</th>\n",
       "      <td>Bitcoin</td>\n",
       "      <td>$16,607.50</td>\n",
       "      <td>$10,048,083,512</td>\n",
       "      <td>$319,595,451,886</td>\n",
       "    </tr>\n",
       "    <tr>\n",
       "      <th>1</th>\n",
       "      <td>Ethereum</td>\n",
       "      <td>$1,202.01</td>\n",
       "      <td>$2,321,501,108</td>\n",
       "      <td>$144,894,596,024</td>\n",
       "    </tr>\n",
       "    <tr>\n",
       "      <th>2</th>\n",
       "      <td>Tether</td>\n",
       "      <td>$1.00</td>\n",
       "      <td>$11,443,146,915</td>\n",
       "      <td>$66,276,121,280</td>\n",
       "    </tr>\n",
       "    <tr>\n",
       "      <th>3</th>\n",
       "      <td>USD Coin</td>\n",
       "      <td>$1.00</td>\n",
       "      <td>$1,162,331,440</td>\n",
       "      <td>$44,606,050,118</td>\n",
       "    </tr>\n",
       "    <tr>\n",
       "      <th>4</th>\n",
       "      <td>BNB</td>\n",
       "      <td>$245.33</td>\n",
       "      <td>$268,918,247</td>\n",
       "      <td>$40,041,190,084</td>\n",
       "    </tr>\n",
       "  </tbody>\n",
       "</table>\n",
       "</div>"
      ],
      "text/plain": [
       "       Coin       Price       24h_Volume        Market_Cap\n",
       "0   Bitcoin  $16,607.50  $10,048,083,512  $319,595,451,886\n",
       "1  Ethereum   $1,202.01   $2,321,501,108  $144,894,596,024\n",
       "2    Tether       $1.00  $11,443,146,915   $66,276,121,280\n",
       "3  USD Coin       $1.00   $1,162,331,440   $44,606,050,118\n",
       "4       BNB     $245.33     $268,918,247   $40,041,190,084"
      ]
     },
     "execution_count": 165,
     "metadata": {},
     "output_type": "execute_result"
    }
   ],
   "source": [
    "crypto_df.head()"
   ]
  },
  {
   "cell_type": "code",
   "execution_count": 166,
   "metadata": {},
   "outputs": [],
   "source": [
    "crypto_df.to_csv(\"crypto_df.csv\", index=False)"
   ]
  },
  {
   "attachments": {},
   "cell_type": "markdown",
   "metadata": {},
   "source": [
    "# Scrapping Multipale Pages"
   ]
  },
  {
   "cell_type": "code",
   "execution_count": 171,
   "metadata": {},
   "outputs": [],
   "source": [
    "# creating a empty list\n",
    "names = []\n",
    "price = []\n",
    "volume_24h = []\n",
    "market_cap = []\n",
    "\n",
    "for i in range(1, 15):\n",
    "    url = \"https://www.coingecko.com/?page=\" +str(i)\n",
    "    # Requesting Website\n",
    "    response = requests.get(url)\n",
    "    # Creating Soup Object\n",
    "    soup = BeautifulSoup(response.content, \"html.parser\")\n",
    "    results = soup.find(\"div\", {\"class\": \"coingecko-table\"}).find(\"tbody\").find_all(\"tr\")\n",
    "    \n",
    "    for result in results:\n",
    "\n",
    "        \n",
    "        \n",
    "        try:\n",
    "            names.append(result.find(\"span\", {\"class\": \"lg:tw-flex font-bold tw-items-center tw-justify-between\"}).get_text().strip())\n",
    "        except:\n",
    "            names.append(\"n/a\")\n",
    "        try:\n",
    "            price.append(result.find(\"td\", {\"class\": \"td-price price text-right\"}).get_text().strip())\n",
    "        except:\n",
    "            price.append(\"n/a\")\n",
    "        try:\n",
    "            volume_24h.append(result.find(\"td\", {\"class\": \"td-liquidity_score lit text-right col-market\"}).get_text().strip())\n",
    "        except:\n",
    "            volume_24h.append(\"n/a\")\n",
    "        try:\n",
    "            market_cap.append(result.find(\"td\", {\"class\": \"td-market_cap cap col-market cap-price text-right\"}).get_text().strip())\n",
    "        except:\n",
    "            market_cap.append(\"n/a\")\n"
   ]
  },
  {
   "cell_type": "code",
   "execution_count": 172,
   "metadata": {},
   "outputs": [],
   "source": [
    "multiple_pages_df = pd.DataFrame({\"Coin\":names, \"Price\":price, \"24h_Volume\":volume_24h, \"Market_Cap\":market_cap})"
   ]
  },
  {
   "cell_type": "code",
   "execution_count": 173,
   "metadata": {},
   "outputs": [
    {
     "data": {
      "text/html": [
       "<div>\n",
       "<style scoped>\n",
       "    .dataframe tbody tr th:only-of-type {\n",
       "        vertical-align: middle;\n",
       "    }\n",
       "\n",
       "    .dataframe tbody tr th {\n",
       "        vertical-align: top;\n",
       "    }\n",
       "\n",
       "    .dataframe thead th {\n",
       "        text-align: right;\n",
       "    }\n",
       "</style>\n",
       "<table border=\"1\" class=\"dataframe\">\n",
       "  <thead>\n",
       "    <tr style=\"text-align: right;\">\n",
       "      <th></th>\n",
       "      <th>Coin</th>\n",
       "      <th>Price</th>\n",
       "      <th>24h_Volume</th>\n",
       "      <th>Market_Cap</th>\n",
       "    </tr>\n",
       "  </thead>\n",
       "  <tbody>\n",
       "    <tr>\n",
       "      <th>0</th>\n",
       "      <td>Bitcoin</td>\n",
       "      <td>$16,617.24</td>\n",
       "      <td>$10,078,611,810</td>\n",
       "      <td>$319,900,825,760</td>\n",
       "    </tr>\n",
       "    <tr>\n",
       "      <th>1</th>\n",
       "      <td>Ethereum</td>\n",
       "      <td>$1,203.11</td>\n",
       "      <td>$2,333,685,269</td>\n",
       "      <td>$145,026,798,380</td>\n",
       "    </tr>\n",
       "    <tr>\n",
       "      <th>2</th>\n",
       "      <td>Tether</td>\n",
       "      <td>$1.00</td>\n",
       "      <td>$11,564,927,112</td>\n",
       "      <td>$66,267,426,000</td>\n",
       "    </tr>\n",
       "    <tr>\n",
       "      <th>3</th>\n",
       "      <td>USD Coin</td>\n",
       "      <td>$1.00</td>\n",
       "      <td>$1,175,693,086</td>\n",
       "      <td>$44,611,189,428</td>\n",
       "    </tr>\n",
       "    <tr>\n",
       "      <th>4</th>\n",
       "      <td>BNB</td>\n",
       "      <td>$245.74</td>\n",
       "      <td>$204,416,536</td>\n",
       "      <td>$40,126,471,725</td>\n",
       "    </tr>\n",
       "  </tbody>\n",
       "</table>\n",
       "</div>"
      ],
      "text/plain": [
       "       Coin       Price       24h_Volume        Market_Cap\n",
       "0   Bitcoin  $16,617.24  $10,078,611,810  $319,900,825,760\n",
       "1  Ethereum   $1,203.11   $2,333,685,269  $145,026,798,380\n",
       "2    Tether       $1.00  $11,564,927,112   $66,267,426,000\n",
       "3  USD Coin       $1.00   $1,175,693,086   $44,611,189,428\n",
       "4       BNB     $245.74     $204,416,536   $40,126,471,725"
      ]
     },
     "execution_count": 173,
     "metadata": {},
     "output_type": "execute_result"
    }
   ],
   "source": [
    "multiple_pages_df.head()"
   ]
  },
  {
   "cell_type": "code",
   "execution_count": 174,
   "metadata": {},
   "outputs": [],
   "source": [
    "multiple_pages_df.to_csv(\"multiple_pages_df.csv\", index=False)"
   ]
  }
 ],
 "metadata": {
  "kernelspec": {
   "display_name": "Python 3",
   "language": "python",
   "name": "python3"
  },
  "language_info": {
   "codemirror_mode": {
    "name": "ipython",
    "version": 3
   },
   "file_extension": ".py",
   "mimetype": "text/x-python",
   "name": "python",
   "nbconvert_exporter": "python",
   "pygments_lexer": "ipython3",
   "version": "3.10.7"
  },
  "orig_nbformat": 4,
  "vscode": {
   "interpreter": {
    "hash": "ef3c1995ae9d7efc63ec1d5de797b9996b27186a29200cf9101d01e6cf7d580a"
   }
  }
 },
 "nbformat": 4,
 "nbformat_minor": 2
}
